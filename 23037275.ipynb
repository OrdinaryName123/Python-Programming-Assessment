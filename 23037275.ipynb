{
 "cells": [
  {
   "cell_type": "code",
   "execution_count": 1,
   "metadata": {},
   "outputs": [],
   "source": [
    "# You may add additional imports here\n",
    "import random\n",
    "import matplotlib.pyplot as plt\n",
    "import csv"
   ]
  },
  {
   "cell_type": "markdown",
   "metadata": {},
   "source": [
    "Question 1\n",
    "==========\n",
    "\n",
    "All parts of Question 1 use the _point-a-rally (PARS) scoring_ system.\n",
    "\n",
    "**Question 1a:** Complete the following function so that it implements the PARS algorithm from the coursework specification.\n",
    "\n",
    "**[Functionality: 7 marks]**"
   ]
  },
  {
   "cell_type": "code",
   "execution_count": 2,
   "metadata": {},
   "outputs": [],
   "source": [
    "#PARS scoring system\n",
    "def game(ra, rb):\n",
    "    player_a, player_b = 0, 0\n",
    "    while True:\n",
    "        #Using formula given:\n",
    "        if random.random() < ra / (ra + rb):\n",
    "            player_a += 1\n",
    "        else:\n",
    "            player_b += 1\n",
    "\n",
    "        # Check for game end conditions\n",
    "        if player_a >= 11 and player_a >= player_b + 2:\n",
    "            return player_a, player_b\n",
    "        elif player_b >= 11 and player_b >= player_a + 2:\n",
    "            return player_a, player_b"
   ]
  },
  {
   "cell_type": "markdown",
   "metadata": {},
   "source": [
    "**Testing:** If the random seed is set to 57, then calling the function with arguments `70` and `30` should return `(11,5)`."
   ]
  },
  {
   "cell_type": "code",
   "execution_count": 3,
   "metadata": {},
   "outputs": [
    {
     "name": "stdout",
     "output_type": "stream",
     "text": [
      "(11, 5)\n"
     ]
    }
   ],
   "source": [
    "random.seed(57)\n",
    "print(game(70, 30))"
   ]
  },
  {
   "cell_type": "markdown",
   "metadata": {},
   "source": [
    "**Question 1b:** Complete the following function `win_probability_game(ra, rb, simulations)` to simulate `simulations` games in order to estimate the probability that a player with ability `ra` will win a game against a player of ability `rb`.\n",
    "\n",
    "**[Functionality: 4 marks]**"
   ]
  },
  {
   "cell_type": "code",
   "execution_count": 4,
   "metadata": {},
   "outputs": [],
   "source": [
    "def win_probability_game(ra, rb, simulations):\n",
    "    points = 0\n",
    "    \n",
    "    for x in range(simulations):\n",
    "        # Simulate a game using PARS scoring\n",
    "        anwser = game(ra, rb)\n",
    "        if anwser[0] > anwser[1]:\n",
    "            points += 1\n",
    "    # Calculate the win probability\n",
    "    probability = points / simulations\n",
    "    return probability"
   ]
  },
  {
   "cell_type": "markdown",
   "metadata": {},
   "source": [
    "**Testing:** Given sufficient simulations, calling the function with abilities `70` and `30` should give the answer `0.98` when printed to 2 decimal places."
   ]
  },
  {
   "cell_type": "code",
   "execution_count": 5,
   "metadata": {},
   "outputs": [
    {
     "name": "stdout",
     "output_type": "stream",
     "text": [
      "0.98\n"
     ]
    }
   ],
   "source": [
    "# Print win_probability_game(70, 30) to 2 decimal places for a suitable value of n:\n",
    "random.seed(57)\n",
    "print(round(win_probability_game(70, 30, 1000), 2))"
   ]
  },
  {
   "cell_type": "markdown",
   "metadata": {},
   "source": [
    "**Question 1c:** Assume players abilities are given in a csv file with the format:\n",
    "```\n",
    "player a ability, player b ability,\n",
    "60, 20,\n",
    "100, 55,\n",
    "50, 40,\n",
    "20, 70,\n",
    "95, 85,\n",
    "```\n",
    "Complete the following function to read in a specified csv file of this format and return a `list` of `tuple`s containing each pair of abilities.\n",
    "\n",
    "**[Functionality: 4 marks]**"
   ]
  },
  {
   "cell_type": "code",
   "execution_count": 24,
   "metadata": {},
   "outputs": [],
   "source": [
    "def read_ability(filepath):\n",
    "    abilities_list = []\n",
    "    with open(filepath, 'r') as file:\n",
    "        csv_reader = csv.reader(file)\n",
    "        next(csv_reader)\n",
    "\n",
    "        for row in csv_reader:\n",
    "            abilities_list.append((int(row[0]), int(row[1])))\n",
    "\n",
    "    return abilities_list"
   ]
  },
  {
   "cell_type": "markdown",
   "metadata": {},
   "source": [
    "**Testing:** Calling the function to read the file `test.csv` from Learning Central should return `[(60, 20), (100, 55), (50, 40), (20, 70), (95, 85)]`"
   ]
  },
  {
   "cell_type": "code",
   "execution_count": 25,
   "metadata": {},
   "outputs": [
    {
     "name": "stdout",
     "output_type": "stream",
     "text": [
      "[(60, 20), (100, 55), (50, 40), (20, 70), (95, 85)]\n"
     ]
    }
   ],
   "source": [
    "# Print the result of calling the function for the file `test.csv`\n",
    "fileName= 'test.csv'\n",
    "csvFileRead = read_ability(fileName)\n",
    "print(csvFileRead)"
   ]
  },
  {
   "cell_type": "markdown",
   "metadata": {},
   "source": [
    "**Question 1d:** Write a function that takes a `list` of the format returned by your answer to 1c as an argument, and uses `matplotlib` to produce a plot (with labelled axes) showing the probability that player a beats player b (in a game) against `ra / r_b` for each pair.\n",
    "\n",
    "**[Functionality: 5 marks]**"
   ]
  },
  {
   "cell_type": "code",
   "execution_count": 8,
   "metadata": {},
   "outputs": [],
   "source": [
    "def plot_win_probabilities(abilities_list): # HINT: what should the argument be?\n",
    "    y_axis, x_axis = [], []\n",
    "    for abilities in abilities_list:\n",
    "        \n",
    "        y_axis.append(win_probability_game(abilities[0], abilities[1], 10000))\n",
    "        x_axis.append(abilities[0]/abilities[1])\n",
    "    \n",
    "    plt.figure(figsize=(10, 6))\n",
    "    plt.scatter(x_axis, y_axis, marker='o', color='b')\n",
    "    plt.xlabel('ra/rb')\n",
    "    plt.ylabel('Probability a wins')\n",
    "    plt.axis([0 , 3 , 0, 1])\n",
    "    # Display the plot\n",
    "    plt.grid(True)\n",
    "    plt.show()\n",
    "\n"
   ]
  },
  {
   "cell_type": "markdown",
   "metadata": {},
   "source": [
    "**Testing:** The following figure (or similar) should result from the data `[(60, 20), (100, 55), (50, 40), (20, 70), (95, 85)]'\n",
    "\n",
    "<img src=\"./win_probabilities.png\" alt=\"Win probabilities\" width=\"500\">\n"
   ]
  },
  {
   "cell_type": "code",
   "execution_count": 9,
   "metadata": {},
   "outputs": [
    {
     "data": {
      "image/png": "[encoded data removed]",
      "text/plain": [
       "<Figure size 1000x600 with 1 Axes>"
      ]
     },
     "metadata": {},
     "output_type": "display_data"
    }
   ],
   "source": [
    "# Call the function to plot the figure here\n",
    "fileName = 'test.csv' \n",
    "abilities_list = read_ability(fileName)\n",
    "plot_win_probabilities(abilities_list)"
   ]
  },
  {
   "cell_type": "markdown",
   "metadata": {},
   "source": [
    "**Question 1e:** Complete the following function `win_probability_match(ra, rb, simulations, m)` to simulate `simulations` matches which are won by the first player to win `m` games, and returns an estimate of the probability that a player with ability `ra` will win such a match against a player of ability `rb`.\n",
    "\n",
    "Provide code that works out the smallest value of `m` such that `win_probability_match(60, 40, simulations, m)` is at least `0.9`. \n",
    "\n",
    "_HINT: make sure you use an appropriate value for `simulations`._\n",
    "\n",
    "**[Functionality: 5 marks]**"
   ]
  },
  {
   "cell_type": "code",
   "execution_count": 17,
   "metadata": {},
   "outputs": [
    {
     "name": "stdout",
     "output_type": "stream",
     "text": [
      "The smallest value of m (number of matches) is: 2\n"
     ]
    }
   ],
   "source": [
    "def win_probability_match(ra, rb, simulations, m):\n",
    "    a_wins, b_wins = 0, 0\n",
    "    for x in range(simulations):\n",
    "        result = match(ra, rb, m)\n",
    "        a_score = result[0]\n",
    "        b_score = result[1]\n",
    "        if a_score > b_score:\n",
    "            a_wins += 1\n",
    "\n",
    "    return (a_wins / simulations)\n",
    "\n",
    "\n",
    "\n",
    "def match(ra, rb, m):\n",
    "    a_wins, b_wins = 0, 0\n",
    "    while a_wins < m and b_wins < m:\n",
    "        result = game(ra, rb)\n",
    "        a_wins += result[0] > result[1]\n",
    "        b_wins += result[0] < result[1]\n",
    "    return a_wins, b_wins\n",
    "\n",
    "##Input values of ra, rb, simulations and m\n",
    "ra = 60\n",
    "rb = 40 \n",
    "simulations = 10000 \n",
    "m = 0\n",
    "while win_probability_match(ra, rb, simulations, m) <= 0.9:\n",
    "    m +=1\n",
    "print(f\"The smallest value of m (number of matches) is: {m}\")\n",
    "    "
   ]
  },
  {
   "cell_type": "markdown",
   "metadata": {},
   "source": [
    "Question 2\n",
    "==========\n",
    "\n",
    "Complete the remaining template of a scientific report that uses the results of simulation (with suitable input data) to investigate whether English or PARS is the ``better'' scoring method for squash matches. \n",
    "\n",
    "You should clearly state any assumptions you make, and may add any number of code cells. Guidance for completing the markdown/text cells is given in the coursework specification. The word count of the remaining markdown/text cells must be at most 750.\n",
    "\n",
    "Your investigation should consider the relative ability of the two players (i.e. `ra/rb`) as the _independent variable_ and include appropriate figures that show how your choice of relevant _dependent variable_ varies. Your results **must** cover at least 50 different values of `ra/rb`.\n",
    "\n",
    "Some starting points you may consider:\n",
    "- How _fair_ is the scoring method - does the better player usually win?\n",
    "- Shorter matches are usually preferable (e.g. for television) - if you assume each rally in a match takes equal time, how long do matches typically last?\n",
    "- What effect does the relative ability of the two players have?\n",
    "\n",
    "**[Report: 7 marks; Achievement: 8 marks]**"
   ]
  },
  {
   "cell_type": "markdown",
   "metadata": {},
   "source": [
    "## Problem"
   ]
  },
  {
   "cell_type": "markdown",
   "metadata": {},
   "source": [
    "The Objective of this investigation is to evulate and compare the effectivness of the two scoring methods; English and PARS through their use in squash matches. We will be measuring which method gives the more fair scoring and representation of the players ability, which ensures the better player to usually win and should expect to see shorter matches because of this"
   ]
  },
  {
   "cell_type": "markdown",
   "metadata": {},
   "source": [
    "## Method"
   ]
  },
  {
   "cell_type": "markdown",
   "metadata": {},
   "source": [
    "I will be conducting a fair number of simulatons for both English and PARS scoring method. I will be doing this by using two players with varying relative abilities (ra/rb).\n",
    "I will cover atleast 50 different values of ra/rb to ensure a thorough evaultion of the players abilities, and for each simulation, the winner of the round will be recorded, aswell as this, I will be measuring the how many matches is played before a player has won, as a shorter match can mean a more enjoyable match."
   ]
  },
  {
   "cell_type": "markdown",
   "metadata": {},
   "source": [
    "## Assumptions"
   ]
  },
  {
   "cell_type": "markdown",
   "metadata": {},
   "source": [
    "We are assuming each rally in a match takes up an equal amount of time, which will be used to provide a basis for estimating the duration of a match.\n",
    "For the English scoring system, we are assuming that if they score 8-8, there is a coin toss to decide wether the score goes to 9 or 10 (heads is 9, tails is 10)"
   ]
  },
  {
   "cell_type": "markdown",
   "metadata": {},
   "source": [
    "## Results"
   ]
  },
  {
   "attachments": {
    "image-2.png": {
     "image/png": "[encoded data removed]"
    }
   },
   "cell_type": "markdown",
   "metadata": {},
   "source": [
    "After coding the English scoring system and comparing it to the PARS system, we can see from the graph shown below, that a match using the PARS system is on average shorter, especially when the relative abilities of both players is 1. This means, that since shorter matches are generally prefered, the PARS system giving a shorter match would be more enjoyable to watch\n",
    "\n",
    "(Red is Pars, Blue is English)\n",
    "\n",
    "\n",
    "\n",
    "![image-2.png](attachment:image-2.png)"
   ]
  },
  {
   "cell_type": "markdown",
   "metadata": {},
   "source": [
    "## Conclusions"
   ]
  },
  {
   "cell_type": "markdown",
   "metadata": {},
   "source": [
    "To conclude, I believe both scoring systems can be used in very different ways, and there is no clear \"winner\" for one being \"better\". The english scoring system can be used more in toruments, where its more about the players abilities, as can be seen in the graph, the higher the abilities of the two players are (ra/rb) creates a lower average length of match, making it more enjoyable for viewers.\n",
    "The Pars system would be more helpful and used better for more local games, with a group of friends, or low tier toruments, where the viewer numbers arent as high and therefore dont have much of an inclusion in the result. This can also be seen in the PARS graph above where the lower (ra/rb) create a shorter match, and arent as strongly based upon the abilities as there isnt as much of a curve\n"
   ]
  },
  {
   "cell_type": "code",
   "execution_count": 23,
   "metadata": {},
   "outputs": [
    {
     "data": {
      "image/png": "[encoded data removed]",
      "text/plain": [
       "<Figure size 640x480 with 1 Axes>"
      ]
     },
     "metadata": {},
     "output_type": "display_data"
    }
   ],
   "source": [
    "def listTuples(myfile): \n",
    "\tdata = []\n",
    "\twith open(myfile, 'r') as file: \n",
    "\t\t\tcsv_reader = csv.reader(file)\n",
    "\t\t\tnext(csv_reader)#skips first rows\n",
    "\t\t\tfor row in csv_reader:\n",
    "\t\t\t\tdata.append((int(row[0]), int(row[1]))) \n",
    "\treturn data \n",
    "\n",
    "#English scoring system\n",
    "def english_Game(ra, rb): \n",
    "\tserver = 'A'\n",
    "\tplayer_a, player_b, rallies = 0, 0, 0\n",
    "\twinPoint = 9\n",
    "\tgameOver = False\n",
    "\twhile gameOver == False:\n",
    "\t\tprobability = random.random() \n",
    "\t\tif probability < ra / (ra + rb):\n",
    "\t\t\tif  server == 'A': \n",
    "\t\t\t\tplayer_a += 1\n",
    "\t\t\telse:\n",
    "\t\t\t\tserver = 'A'\n",
    "\t\telse:\n",
    "\t\t\tif server == 'B': \n",
    "\t\t\t\tplayer_b += 1\n",
    "\t\t\telse:\n",
    "\t\t\t\tserver = 'B'\n",
    "\t\tif player_a == 8 and player_b == 8: \n",
    "\t\t\tif probability < 0.5: \n",
    "\t\t\t\twinPoint = 10\n",
    "\t\trallies += 1\n",
    "\t\treached_winPoint = (player_a == winPoint) or (player_b == winPoint)\n",
    "\t\tif reached_winPoint:\n",
    "\t\t\tgameOver = True\n",
    "\treturn player_a, player_b, rallies\n",
    "\n",
    "\n",
    "def win_english_game(ra, rb, simulations):\n",
    "    a = 0 \n",
    "    for x in range(0, simulations):\n",
    "        anwser = english_Game(ra, rb)\n",
    "        if anwser[0] > anwser[1]:\n",
    "            a += 1\n",
    "\n",
    "    # Calculate the win probability\n",
    "    probability = a / simulations\n",
    "    return probability\n",
    "\n",
    "def engGameRallies(ra, rb, n):\n",
    "\tralliesE = 0\n",
    "\tfor matches in range(0, n):\n",
    "\t\ttemp = english_Game(ra, rb)[2]\n",
    "\t\tralliesE += temp\n",
    "\tralliesE = round((ralliesE/n),2)\n",
    "\treturn ralliesE\n",
    "\n",
    "def parsGameRallies(ra, rb, n):\n",
    "      ralliesP = 0\n",
    "      for matches in range(n):\n",
    "            pointsA, pointsB = game(ra, rb)\n",
    "            ralliesP += (pointsA + pointsB)\n",
    "      ralliesP = round((ralliesP / n),2) \n",
    "      return ralliesP\n",
    "\n",
    "def scoringGraph():\n",
    "\tengRallies=list()\n",
    "\tparsRallies=list()\n",
    "\tRA=list()\n",
    "\tplayerRange = listTuples('extraSimulations.csv')\n",
    "\tfor i in playerRange: \n",
    "\t\tengRallies.append(engGameRallies(i[0], i[1], 10000))\n",
    "\t\tparsRallies.append(parsGameRallies(i[0], i[1], 10000)) \n",
    "\t\tRA.append(i[0] / i[1])\n",
    "\tplt.scatter(RA, engRallies, marker='o', color='b')\n",
    "\tplt.scatter(RA, parsRallies, marker='o', color='r')\n",
    "\tplt.axis([0,4,0,35])\n",
    "\tplt.xlabel('Relative abilities of the two players (ra / rb)')\n",
    "\tplt.ylabel('Average length of match in minutes.')\n",
    "\tplt.show()\n",
    "\n",
    "scoringGraph()"
   ]
  }
 ],
 "metadata": {
  "interpreter": {
   "hash": "183b6f3dd52b9ae2bd385afe1588cc6cf56d78005d888e2b09b3c195f16f84ec"
  },
  "kernelspec": {
   "display_name": "Python 3.9.1 64-bit ('base': conda)",
   "name": "python3"
  },
  "language_info": {
   "codemirror_mode": {
    "name": "ipython",
    "version": 3
   },
   "file_extension": ".py",
   "mimetype": "text/x-python",
   "name": "python",
   "nbconvert_exporter": "python",
   "pygments_lexer": "ipython3",
   "version": "3.11.6"
  },
  "orig_nbformat": 4
 },
 "nbformat": 4,
 "nbformat_minor": 2
}
